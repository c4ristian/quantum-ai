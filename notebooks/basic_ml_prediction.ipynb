{
 "cells": [
  {
   "cell_type": "markdown",
   "metadata": {
    "collapsed": true,
    "pycharm": {
     "name": "#%% md\n"
    }
   },
   "source": [
    "### Basic QNN Prediction"
   ]
  },
  {
   "cell_type": "code",
   "execution_count": 1,
   "outputs": [],
   "source": [
    "# Imports\n",
    "import warnings\n",
    "import pennylane as qml\n",
    "import tensorflow as tf\n",
    "import numpy as np\n",
    "from sklearn.datasets import make_blobs\n",
    "import matplotlib.pyplot as plt"
   ],
   "metadata": {
    "collapsed": false,
    "pycharm": {
     "name": "#%%\n"
    }
   }
  },
  {
   "cell_type": "code",
   "execution_count": 2,
   "outputs": [],
   "source": [
    "# Set keras float type\n",
    "tf.keras.backend.set_floatx('float64')\n"
   ],
   "metadata": {
    "collapsed": false,
    "pycharm": {
     "name": "#%%\n"
    }
   }
  },
  {
   "cell_type": "code",
   "execution_count": 3,
   "outputs": [],
   "source": [
    "# Configure Device\n",
    "n_qubits = 1\n",
    "\n",
    "local = False\n",
    "remote_device = None\n",
    "%store -r remote_device\n",
    "\n",
    "if local:\n",
    "    # Local simulator\n",
    "    dev = qml.device(\"default.qubit\", wires=n_qubits)\n",
    "elif remote_device:\n",
    "    dev = remote_device\n",
    "else:\n",
    "    # Connect to IBMQ Device\n",
    "    with open('../config/token.txt', 'r') as file:\n",
    "        token = file.read()\n",
    "\n",
    "    remote_device = qml.device(\n",
    "        'qiskit.ibmq', wires=1,\n",
    "        backend='ibmq_armonk', ibmqx_token=token)\n",
    "\n",
    "    %store remote_device\n",
    "    dev = remote_device"
   ],
   "metadata": {
    "collapsed": false,
    "pycharm": {
     "name": "#%%\n"
    }
   }
  },
  {
   "cell_type": "code",
   "execution_count": 4,
   "outputs": [],
   "source": [
    "# Define a QNode for a quantum layer with 1 qubit\n",
    "tasks_executed = 0\n",
    "\n",
    "@qml.qnode(dev)\n",
    "def qnode(inputs, weights):\n",
    "    global tasks_executed\n",
    "    tasks_executed += 1\n",
    "    print(f\"Task {tasks_executed}\")\n",
    "\n",
    "    qml.templates.AngleEmbedding(inputs, wires=range(n_qubits))\n",
    "    qml.templates.BasicEntanglerLayers(weights, wires=range(n_qubits))\n",
    "    return [qml.expval(qml.PauliZ(wires=i)) for i in range(n_qubits)]"
   ],
   "metadata": {
    "collapsed": false,
    "pycharm": {
     "name": "#%%\n"
    }
   }
  },
  {
   "cell_type": "code",
   "execution_count": 5,
   "outputs": [],
   "source": [
    "# Convert QNode to keras layer\n",
    "n_layers = 1\n",
    "weight_shapes = {\"weights\": (n_layers, n_qubits)}\n",
    "qlayer = qml.qnn.KerasLayer(qnode, weight_shapes, output_dim=n_qubits)"
   ],
   "metadata": {
    "collapsed": false,
    "pycharm": {
     "name": "#%%\n"
    }
   }
  },
  {
   "cell_type": "code",
   "execution_count": 6,
   "outputs": [],
   "source": [
    "# Define classical layers\n",
    "clayer_1 = tf.keras.layers.Dense(1)\n",
    "clayer_2 = tf.keras.layers.Dense(2, activation=\"softmax\")"
   ],
   "metadata": {
    "collapsed": false,
    "pycharm": {
     "name": "#%%\n"
    }
   }
  },
  {
   "cell_type": "code",
   "execution_count": 7,
   "outputs": [],
   "source": [
    "# Load model from file\n",
    "model = tf.keras.models.Sequential([clayer_1, qlayer, clayer_2])\n",
    "model.load_weights(\"../output/primitive_model.tf\")\n",
    "model.built = True"
   ],
   "metadata": {
    "collapsed": false,
    "pycharm": {
     "name": "#%%\n"
    }
   }
  },
  {
   "cell_type": "code",
   "execution_count": 8,
   "outputs": [
    {
     "name": "stdout",
     "output_type": "stream",
     "text": [
      "Model: \"sequential\"\n",
      "_________________________________________________________________\n",
      "Layer (type)                 Output Shape              Param #   \n",
      "=================================================================\n",
      "dense (Dense)                multiple                  0 (unused)\n",
      "_________________________________________________________________\n",
      "keras_layer (KerasLayer)     multiple                  0 (unused)\n",
      "_________________________________________________________________\n",
      "dense_1 (Dense)              multiple                  0 (unused)\n",
      "=================================================================\n",
      "Total params: 0\n",
      "Trainable params: 0\n",
      "Non-trainable params: 0\n",
      "_________________________________________________________________\n"
     ]
    }
   ],
   "source": [
    "model.summary()"
   ],
   "metadata": {
    "collapsed": false,
    "pycharm": {
     "name": "#%%\n"
    }
   }
  },
  {
   "cell_type": "code",
   "execution_count": 9,
   "outputs": [
    {
     "data": {
      "text/plain": "<Figure size 432x288 with 1 Axes>",
      "image/png": "[encoded data removed]"
     },
     "metadata": {
      "needs_background": "light"
     },
     "output_type": "display_data"
    }
   ],
   "source": [
    "# Generate random data\n",
    "n_samples=50\n",
    "\n",
    "np.random.seed(42)\n",
    "tf.random.set_seed(42)\n",
    "\n",
    "x, y = make_blobs(n_samples=n_samples, n_features=2, centers=2)\n",
    "y_hot = tf.keras.utils.to_categorical(y, num_classes=2)  # one-hot encoded labels\n",
    "\n",
    "c = [\"#1f77b4\" if y_ == 0 else \"#ff7f0e\" for y_ in y]  # colours for each class\n",
    "plt.axis(\"off\")\n",
    "plt.scatter(x[:, 0], x[:, 1], c=c)\n",
    "plt.show()"
   ],
   "metadata": {
    "collapsed": false,
    "pycharm": {
     "name": "#%%\n"
    }
   }
  },
  {
   "cell_type": "code",
   "execution_count": 10,
   "outputs": [
    {
     "name": "stdout",
     "output_type": "stream",
     "text": [
      "Task 1\n",
      "Task 2\n",
      "Task 3\n",
      "Task 4\n",
      "Task 5\n",
      "Task 6\n",
      "Task 7\n",
      "Task 8\n",
      "Task 9\n",
      "Task 10\n",
      "Task 11\n",
      "Task 12\n",
      "Task 13\n",
      "Task 14\n",
      "Task 15\n",
      "Task 16\n",
      "Task 17\n",
      "Task 18\n",
      "Task 19\n",
      "Task 20\n",
      "Task 21\n",
      "Task 22\n",
      "Task 23\n",
      "Task 24\n",
      "Task 25\n",
      "Task 26\n",
      "Task 27\n",
      "Task 28\n",
      "Task 29\n",
      "Task 30\n",
      "Task 31\n",
      "Task 32\n",
      "Task 33\n",
      "Task 34\n",
      "Task 35\n",
      "Task 36\n",
      "Task 37\n",
      "Task 38\n",
      "Task 39\n",
      "Task 40\n",
      "Task 41\n",
      "Task 42\n",
      "Task 43\n",
      "Task 44\n",
      "Task 45\n",
      "Task 46\n",
      "Task 47\n",
      "Task 48\n",
      "Task 49\n",
      "Task 50\n"
     ]
    },
    {
     "name": "stderr",
     "output_type": "stream",
     "text": [
      "C:\\Users\\User\\anaconda3\\envs\\quantum-ai\\lib\\site-packages\\pennylane_qiskit\\qiskit_device.py:301: UserWarning: ibmqx_token is not a recognized runtime option and may be ignored by the backend.\n",
      "  self._current_job = self.backend.run(qcirc, shots=self.shots, **self.run_args)\n"
     ]
    }
   ],
   "source": [
    "# Perform prediction\n",
    "y_prob = model.predict(x[:, 0])\n",
    "y_class = y_prob.argmax(axis=-1)"
   ],
   "metadata": {
    "collapsed": false,
    "pycharm": {
     "name": "#%%\n"
    }
   }
  },
  {
   "cell_type": "code",
   "execution_count": 11,
   "outputs": [
    {
     "name": "stdout",
     "output_type": "stream",
     "text": [
      "Tasks executed: 50\n"
     ]
    }
   ],
   "source": [
    "print(\"Tasks executed:\", tasks_executed)"
   ],
   "metadata": {
    "collapsed": false,
    "pycharm": {
     "name": "#%%\n"
    }
   }
  },
  {
   "cell_type": "code",
   "execution_count": 12,
   "outputs": [
    {
     "data": {
      "text/plain": "<Figure size 432x288 with 1 Axes>",
      "image/png": "[encoded data removed]"
     },
     "metadata": {
      "needs_background": "light"
     },
     "output_type": "display_data"
    }
   ],
   "source": [
    "# Plot prediction\n",
    "c = [\"#1f77b4\" if y_ == 0 else \"#ff7f0e\" for y_ in y_class]  # colours for each class\n",
    "plt.axis(\"off\")\n",
    "plt.scatter(x[:, 0], x[:, 1], c=c)\n",
    "plt.show()"
   ],
   "metadata": {
    "collapsed": false,
    "pycharm": {
     "name": "#%%\n"
    }
   }
  }
 ],
 "metadata": {
  "kernelspec": {
   "name": "quantum-ai",
   "language": "python",
   "display_name": "quantum-ai"
  },
  "language_info": {
   "codemirror_mode": {
    "name": "ipython",
    "version": 2
   },
   "file_extension": ".py",
   "mimetype": "text/x-python",
   "name": "python",
   "nbconvert_exporter": "python",
   "pygments_lexer": "ipython2",
   "version": "2.7.6"
  }
 },
 "nbformat": 4,
 "nbformat_minor": 0
}