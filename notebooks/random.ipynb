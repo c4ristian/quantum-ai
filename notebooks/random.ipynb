{
 "cells": [
  {
   "cell_type": "markdown",
   "source": [
    "## Random number generator\n",
    "\n",
    "This notebook generates Bernoulli distributed random numbers using a quantum computer."
   ],
   "metadata": {
    "collapsed": false,
    "pycharm": {
     "name": "#%% md\n"
    }
   }
  },
  {
   "cell_type": "code",
   "execution_count": 31,
   "metadata": {
    "collapsed": true
   },
   "outputs": [],
   "source": [
    "# Imports\n",
    "import os\n",
    "import pennylane as qml\n",
    "import pandas as pd\n",
    "import matplotlib.pyplot as plt"
   ]
  },
  {
   "cell_type": "code",
   "execution_count": 32,
   "outputs": [],
   "source": [
    "# Configure Device\n",
    "n_qubits = 1\n",
    "shots = 1000\n",
    "\n",
    "local = False\n",
    "remote_device = None\n",
    "%store -r remote_device\n",
    "\n",
    "if local:\n",
    "    # Local simulator\n",
    "    dev = qml.device(\"default.qubit\", wires=n_qubits, shots=shots)\n",
    "elif remote_device:\n",
    "    dev = remote_device\n",
    "else:\n",
    "    # Connect to IBMQ Device\n",
    "    with open('../config/token.txt', 'r') as file:\n",
    "        token = file.read()\n",
    "\n",
    "    remote_device = qml.device(\n",
    "        'ibmq_armonk', wires=1,\n",
    "        backend='ibmq_quito', ibmqx_token=token,\n",
    "        shots=shots)\n",
    "\n",
    "    %store remote_device\n",
    "    dev = remote_device"
   ],
   "metadata": {
    "collapsed": false,
    "pycharm": {
     "name": "#%%\n"
    }
   }
  },
  {
   "cell_type": "code",
   "execution_count": 33,
   "outputs": [
    {
     "name": "stderr",
     "output_type": "stream",
     "text": [
      "C:\\Users\\User\\anaconda3\\envs\\quantum-ai\\lib\\site-packages\\pennylane_qiskit\\qiskit_device.py:301: UserWarning: ibmqx_token is not a recognized runtime option and may be ignored by the backend.\n",
      "  self._current_job = self.backend.run(qcirc, shots=self.shots, **self.run_args)\n"
     ]
    }
   ],
   "source": [
    "# Generate Random Numbers\n",
    "@qml.qnode(dev)\n",
    "def circuit():\n",
    "    qml.Hadamard(wires=0)\n",
    "    return qml.sample(qml.PauliZ(wires=0))\n",
    "\n",
    "result = circuit()"
   ],
   "metadata": {
    "collapsed": false,
    "pycharm": {
     "name": "#%%\n"
    }
   }
  },
  {
   "cell_type": "code",
   "execution_count": 34,
   "outputs": [
    {
     "name": "stdout",
     "output_type": "stream",
     "text": [
      "Positive: 537\n",
      "Negative: 487\n"
     ]
    }
   ],
   "source": [
    "# Evaluate results\n",
    "series = pd.Series(result, name=\"x\")\n",
    "positive = len(series[series > 0])\n",
    "negative = len(series[series < 0])\n",
    "\n",
    "print(\"Positive:\", positive)\n",
    "print(\"Negative:\", negative)"
   ],
   "metadata": {
    "collapsed": false,
    "pycharm": {
     "name": "#%%\n"
    }
   }
  },
  {
   "cell_type": "code",
   "execution_count": 35,
   "outputs": [
    {
     "data": {
      "text/plain": "<Figure size 432x288 with 1 Axes>",
      "image/png": "[encoded data removed]"
     },
     "metadata": {
      "needs_background": "light"
     },
     "output_type": "display_data"
    }
   ],
   "source": [
    "# Plot results\n",
    "plt.bar([\"0\", \"1\"], [positive, negative])\n",
    "plt.show()"
   ],
   "metadata": {
    "collapsed": false,
    "pycharm": {
     "name": "#%%\n"
    }
   }
  },
  {
   "cell_type": "code",
   "execution_count": 36,
   "outputs": [],
   "source": [
    "# Store results\n",
    "output_path = \"../output/random_numbers.csv\"\n",
    "\n",
    "if os.path.exists(output_path):\n",
    "    series.to_csv(output_path, mode=\"a\", header=False, index=False)\n",
    "else:\n",
    "    series.to_csv(output_path, mode=\"w\", header=True, index=False)"
   ],
   "metadata": {
    "collapsed": false,
    "pycharm": {
     "name": "#%%\n"
    }
   }
  }
 ],
 "metadata": {
  "kernelspec": {
   "name": "quantum-ai",
   "language": "python",
   "display_name": "quantum-ai"
  },
  "language_info": {
   "codemirror_mode": {
    "name": "ipython",
    "version": 2
   },
   "file_extension": ".py",
   "mimetype": "text/x-python",
   "name": "python",
   "nbconvert_exporter": "python",
   "pygments_lexer": "ipython2",
   "version": "2.7.6"
  }
 },
 "nbformat": 4,
 "nbformat_minor": 0
}