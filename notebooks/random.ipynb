{
 "cells": [
  {
   "cell_type": "markdown",
   "source": [
    "## Random number generator"
   ],
   "metadata": {
    "collapsed": false,
    "pycharm": {
     "name": "#%% md\n"
    }
   }
  },
  {
   "cell_type": "code",
   "execution_count": 36,
   "metadata": {
    "collapsed": true
   },
   "outputs": [],
   "source": [
    "import pennylane as qml\n",
    "import pandas as pd\n",
    "import matplotlib.pyplot as plt"
   ]
  },
  {
   "cell_type": "code",
   "execution_count": 37,
   "outputs": [],
   "source": [
    "# Configure Device\n",
    "n_qubits = 1\n",
    "shots = 1000\n",
    "\n",
    "local = True\n",
    "token = None\n",
    "%store -r token\n",
    "\n",
    "if local:\n",
    "    # Local simulator\n",
    "    dev = qml.device(\"default.qubit\", wires=n_qubits, shots=1000)\n",
    "elif not token:\n",
    "    # Load token\n",
    "    with open('../config/token.txt', 'r') as file:\n",
    "        token = file.read()\n",
    "        %store token\n",
    "    # Connect to IBMQ\n",
    "    dev = qml.device(\n",
    "        'qiskit.ibmq', wires=1,\n",
    "        backend='ibmq_armonk', ibmqx_token=token,\n",
    "        shots=1000)"
   ],
   "metadata": {
    "collapsed": false,
    "pycharm": {
     "name": "#%%\n"
    }
   }
  },
  {
   "cell_type": "code",
   "execution_count": 38,
   "outputs": [],
   "source": [
    "# Generate Random Numbers\n",
    "@qml.qnode(dev)\n",
    "def circuit():\n",
    "    qml.Hadamard(wires=0)\n",
    "    return qml.sample(qml.PauliZ(wires=0))\n",
    "\n",
    "result = circuit()"
   ],
   "metadata": {
    "collapsed": false,
    "pycharm": {
     "name": "#%%\n"
    }
   }
  },
  {
   "cell_type": "code",
   "execution_count": 39,
   "outputs": [
    {
     "name": "stdout",
     "output_type": "stream",
     "text": [
      "Positive: 501\n",
      "Negative: 499\n"
     ]
    }
   ],
   "source": [
    "# Evaluate results\n",
    "series = pd.Series(result)\n",
    "positive = len(series[series > 0])\n",
    "negative = len(series[series < 0])\n",
    "\n",
    "print(\"Positive:\", positive)\n",
    "print(\"Negative:\", negative)"
   ],
   "metadata": {
    "collapsed": false,
    "pycharm": {
     "name": "#%%\n"
    }
   }
  },
  {
   "cell_type": "code",
   "execution_count": 40,
   "outputs": [
    {
     "data": {
      "text/plain": "<Figure size 432x288 with 1 Axes>",
      "image/png": "[encoded data removed]"
     },
     "metadata": {
      "needs_background": "light"
     },
     "output_type": "display_data"
    }
   ],
   "source": [
    "# Plot results\n",
    "plt.bar([\"0\", \"1\"], [positive, negative])\n",
    "plt.show()"
   ],
   "metadata": {
    "collapsed": false,
    "pycharm": {
     "name": "#%%\n"
    }
   }
  },
  {
   "cell_type": "code",
   "execution_count": 41,
   "outputs": [],
   "source": [
    "# Store results\n",
    "series.to_csv(\"../output/random_numbers.csv\")"
   ],
   "metadata": {
    "collapsed": false,
    "pycharm": {
     "name": "#%%\n"
    }
   }
  }
 ],
 "metadata": {
  "kernelspec": {
   "name": "quantum-ai",
   "language": "python",
   "display_name": "quantum-ai"
  },
  "language_info": {
   "codemirror_mode": {
    "name": "ipython",
    "version": 2
   },
   "file_extension": ".py",
   "mimetype": "text/x-python",
   "name": "python",
   "nbconvert_exporter": "python",
   "pygments_lexer": "ipython2",
   "version": "2.7.6"
  }
 },
 "nbformat": 4,
 "nbformat_minor": 0
}